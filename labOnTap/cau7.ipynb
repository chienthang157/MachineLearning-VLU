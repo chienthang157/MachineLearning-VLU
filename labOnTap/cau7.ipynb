{
 "cells": [
  {
   "cell_type": "code",
   "execution_count": 1,
   "metadata": {},
   "outputs": [],
   "source": [
    "import numpy as np\n",
    "import time\n",
    "from sklearn.datasets import load_digits\n",
    "from sklearn.model_selection import train_test_split\n",
    "from sklearn.svm import SVC\n",
    "from sklearn.metrics import accuracy_score"
   ]
  },
  {
   "cell_type": "code",
   "execution_count": 2,
   "metadata": {},
   "outputs": [],
   "source": [
    "# Tải tập dữ liệu Digits\n",
    "digits = load_digits()\n",
    "X = digits.data  # Dữ liệu đầu vào\n",
    "y = digits.target  # Nhãn\n",
    "\n",
    "# Chia tập dữ liệu thành tập huấn luyện và tập kiểm tra với tỷ lệ 75:25\n",
    "X_train, X_test, y_train, y_test = train_test_split(X, y, test_size=0.25, random_state=42)\n",
    "\n",
    "# Danh sách các kernel để thử nghiệm\n",
    "kernels = ['linear', 'rbf', 'poly']\n",
    "results = {}\n"
   ]
  },
  {
   "cell_type": "code",
   "execution_count": 3,
   "metadata": {},
   "outputs": [],
   "source": [
    "# Thử nghiệm với các kernel khác nhau\n",
    "for kernel in kernels:\n",
    "    # Ghi lại thời gian bắt đầu\n",
    "    start_time = time.time()\n",
    "    \n",
    "    # Huấn luyện mô hình SVM với kernel hiện tại\n",
    "    svm_model = SVC(kernel=kernel, random_state=42)\n",
    "    svm_model.fit(X_train, y_train)\n",
    "    \n",
    "    # Dự đoán trên tập kiểm tra\n",
    "    y_pred = svm_model.predict(X_test)\n",
    "    \n",
    "    # Tính toán độ chính xác\n",
    "    accuracy = accuracy_score(y_test, y_pred)\n",
    "    \n",
    "    # Ghi lại thời gian huấn luyện\n",
    "    training_time = time.time() - start_time\n",
    "    \n",
    "    # Lưu kết quả\n",
    "    results[kernel] = {\n",
    "        'accuracy': accuracy,\n",
    "        'training_time': training_time\n",
    "    }"
   ]
  },
  {
   "cell_type": "code",
   "execution_count": 4,
   "metadata": {},
   "outputs": [
    {
     "name": "stdout",
     "output_type": "stream",
     "text": [
      "Kernel: linear\n",
      "Độ chính xác: 0.98\n",
      "Thời gian huấn luyện: 0.0396 giây\n",
      "\n",
      "Kernel: rbf\n",
      "Độ chính xác: 0.99\n",
      "Thời gian huấn luyện: 0.5274 giây\n",
      "\n",
      "Kernel: poly\n",
      "Độ chính xác: 0.99\n",
      "Thời gian huấn luyện: 0.0256 giây\n",
      "\n"
     ]
    }
   ],
   "source": [
    "# In kết quả\n",
    "for kernel, metrics in results.items():\n",
    "    print(f\"Kernel: {kernel}\")\n",
    "    print(f\"Độ chính xác: {metrics['accuracy']:.2f}\")\n",
    "    print(f\"Thời gian huấn luyện: {metrics['training_time']:.4f} giây\\n\")"
   ]
  }
 ],
 "metadata": {
  "kernelspec": {
   "display_name": "Python 3",
   "language": "python",
   "name": "python3"
  },
  "language_info": {
   "codemirror_mode": {
    "name": "ipython",
    "version": 3
   },
   "file_extension": ".py",
   "mimetype": "text/x-python",
   "name": "python",
   "nbconvert_exporter": "python",
   "pygments_lexer": "ipython3",
   "version": "3.10.11"
  }
 },
 "nbformat": 4,
 "nbformat_minor": 2
}
