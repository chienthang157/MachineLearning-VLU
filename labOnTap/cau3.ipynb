{
 "cells": [
  {
   "cell_type": "code",
   "execution_count": 1,
   "metadata": {},
   "outputs": [],
   "source": [
    "# Import các thư viện cần thiết\n",
    "from sklearn.datasets import load_wine\n",
    "from sklearn.model_selection import train_test_split\n",
    "from sklearn.neighbors import KNeighborsClassifier\n",
    "from sklearn.metrics import accuracy_score, precision_score, recall_score"
   ]
  },
  {
   "cell_type": "code",
   "execution_count": 2,
   "metadata": {},
   "outputs": [],
   "source": [
    "# Bước 1: Tải tập dữ liệu Wine\n",
    "wine = load_wine()\n",
    "X = wine.data  # Dữ liệu đầu vào\n",
    "y = wine.target  # Nhãn\n",
    "\n",
    "# Bước 2: Chia tập dữ liệu thành tập huấn luyện và tập kiểm tra với tỷ lệ 70:30\n",
    "X_train, X_test, y_train, y_test = train_test_split(X, y, test_size=0.3, random_state=42)\n"
   ]
  },
  {
   "cell_type": "code",
   "execution_count": 3,
   "metadata": {},
   "outputs": [],
   "source": [
    "# Bước 3: Huấn luyện mô hình KNN với k = 5\n",
    "model = KNeighborsClassifier(n_neighbors=5)\n",
    "model.fit(X_train, y_train)\n",
    "\n",
    "# Bước 4: Dự đoán trên tập kiểm tra\n",
    "y_pred = model.predict(X_test)\n",
    "\n",
    "# Bước 5: Tính toán độ chính xác, độ nhạy và độ chính xác\n",
    "accuracy = accuracy_score(y_test, y_pred)\n",
    "precision = precision_score(y_test, y_pred, average='weighted')  # Tính toán precision với average='weighted'\n",
    "recall = recall_score(y_test, y_pred, average='weighted')  # Tính toán recall với average='weighted'"
   ]
  },
  {
   "cell_type": "code",
   "execution_count": 4,
   "metadata": {},
   "outputs": [
    {
     "name": "stdout",
     "output_type": "stream",
     "text": [
      "Độ chính xác của mô hình: 0.74\n",
      "Độ nhạy của mô hình: 0.74\n",
      "Độ chính xác của mô hình: 0.74\n"
     ]
    }
   ],
   "source": [
    "\n",
    "# In ra các chỉ số\n",
    "print(f\"Độ chính xác của mô hình: {accuracy:.2f}\")\n",
    "print(f\"Độ nhạy của mô hình: {recall:.2f}\")\n",
    "print(f\"Độ chính xác của mô hình: {precision:.2f}\")"
   ]
  }
 ],
 "metadata": {
  "kernelspec": {
   "display_name": "Python 3",
   "language": "python",
   "name": "python3"
  },
  "language_info": {
   "codemirror_mode": {
    "name": "ipython",
    "version": 3
   },
   "file_extension": ".py",
   "mimetype": "text/x-python",
   "name": "python",
   "nbconvert_exporter": "python",
   "pygments_lexer": "ipython3",
   "version": "3.10.11"
  }
 },
 "nbformat": 4,
 "nbformat_minor": 2
}
